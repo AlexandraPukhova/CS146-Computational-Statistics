{
 "cells": [
  {
   "cell_type": "code",
   "execution_count": null,
   "metadata": {
    "collapsed": true
   },
   "outputs": [],
   "source": [
    "import numpy as np\n",
    "from scipy import stats\n",
    "import matplotlib.pyplot as plt\n",
    "%matplotlib inline\n",
    "import pandas as pd"
   ]
  },
  {
   "cell_type": "markdown",
   "metadata": {},
   "source": [
    "The first step is to approximate the parameters of the normal distribution. \n",
    "\n",
    "The posterior mode (the value  θ  with the highest probability or the \"peak\") = θ̂ = (θ−θ̂ )ddθ[logP(θ|y)]θ=θ̂ =0 This is the mean of the normal dist. \n",
    "\n",
    "The variance will be given by the second derivative calculted at the mode, i.e.  $$\\sigma^2=−(\\frac{d^2}{d\\theta^2}[logP(\\theta|y)]\\theta = \\text{θ̂} )^-1$$"
   ]
  },
  {
   "cell_type": "markdown",
   "metadata": {},
   "source": [
    "However, I am not sure how to implement that, because it seems to be a discrete function, so I just calculate the mode and variance by the Wiki formulas. "
   ]
  },
  {
   "cell_type": "code",
   "execution_count": null,
   "metadata": {
    "collapsed": true
   },
   "outputs": [],
   "source": [
    "# Normal approximation\n",
    "n = 1000\n",
    "p = 0.1\n",
    "\n",
    "mean = (n + 1.)*p # mode of binomial distr\n",
    "var = (n*p)/(1-p) #variance, sigma^2\n",
    "normal_dist = stats.norm(loc=mean, scale=np.sqrt(var))"
   ]
  },
  {
   "cell_type": "markdown",
   "metadata": {},
   "source": [
    "Also, I found another method online. As far as I understand, the logic there is the following: "
   ]
  },
  {
   "cell_type": "code",
   "execution_count": 2,
   "metadata": {
    "collapsed": true
   },
   "outputs": [],
   "source": [
    "# Using binomial likelihood and sampling from it to get the means\n",
    "means = []\n",
    "samples = []\n",
    "for i in range(100):\n",
    "\n",
    "    n = 1000\n",
    "    p = 0.1\n",
    "    bin_dist = stats.binom(n,p)\n",
    "\n",
    "    # Sampling\n",
    "    for i in range(100):\n",
    "        samples.append(bin_dist.rvs())\n",
    "\n",
    "    # Extracting sample means\n",
    "    mean = np.mean(samples)\n",
    "    means.append(mean)"
   ]
  },
  {
   "cell_type": "markdown",
   "metadata": {},
   "source": [
    "They say that we can then produce confidence intervals and calculate standard errors of the means which will allow us to calculate the margins of error. I am unsure if that was ok to try and use this method instead of the Taylor expansion. "
   ]
  }
 ],
 "metadata": {
  "anaconda-cloud": {},
  "kernelspec": {
   "display_name": "Python [CS146]",
   "language": "python",
   "name": "Python [CS146]"
  },
  "language_info": {
   "codemirror_mode": {
    "name": "ipython",
    "version": 3
   },
   "file_extension": ".py",
   "mimetype": "text/x-python",
   "name": "python",
   "nbconvert_exporter": "python",
   "pygments_lexer": "ipython3",
   "version": "3.6.5"
  }
 },
 "nbformat": 4,
 "nbformat_minor": 2
}
