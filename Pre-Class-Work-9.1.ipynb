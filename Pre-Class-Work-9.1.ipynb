{
 "cells": [
  {
   "cell_type": "code",
   "execution_count": 14,
   "metadata": {},
   "outputs": [
    {
     "name": "stdout",
     "output_type": "stream",
     "text": [
      "ERROR! Session/line number was not unique in database. History logging moved to new session 396\n"
     ]
    }
   ],
   "source": [
    "# Generating samples from a directed graphical model\n",
    "\n",
    "import numpy as np\n",
    "import matplotlib.pyplot as plt\n",
    "import scipy.stats as stats\n",
    "%matplotlib inline "
   ]
  },
  {
   "cell_type": "code",
   "execution_count": 15,
   "metadata": {
    "collapsed": true
   },
   "outputs": [],
   "source": [
    "# Field goal rate data. Each tuple contains (field goals made, field goals attempted).\n",
    "player_field_goal_data = {\n",
    "    # http://www.espn.com/nba/player/gamelog/_/id/2594922/year/2018/otto-porter-jr\n",
    "    'Otto Porter Jr': [(0, 0), (4, 9), (4, 8), (3, 7), (5, 10), (4, 7), (0, 0), (5, 8), (4, 9)],\n",
    "    # http://www.espn.com/nba/player/gamelog/_/id/3024/year/2018/jj-redick\n",
    "    'JJ Redick': [(5, 13), (3, 11), (6, 15), (9, 17), (7, 13), (6, 13), (8, 18), (4, 9), (4, 13)],\n",
    "    # http://www.espn.com/nba/player/gamelog/_/id/3213/year/2018/al-horford\n",
    "    'Al Horford': [(7, 12), (2, 8), (4, 9), (5, 13), (2, 4), (5, 13), (8, 10), (7, 16), (4, 6)],\n",
    "}"
   ]
  },
  {
   "cell_type": "code",
   "execution_count": 16,
   "metadata": {},
   "outputs": [
    {
     "data": {
      "image/png": "[encoded data removed]",
      "text/plain": [
       "<Figure size 600x400 with 1 Axes>"
      ]
     },
     "metadata": {},
     "output_type": "display_data"
    }
   ],
   "source": [
    "player_1 = []\n",
    "a = 1\n",
    "b = 1\n",
    "# Fixed hyperparameters alpha and beta\n",
    "\n",
    "\n",
    "for player in player_field_goal_data.keys():\n",
    "    \n",
    "    attempts = []\n",
    "    prob = stats.beta.rvs(a,b,size=1) # 1 probability for each of the players\n",
    "    \n",
    "    for game in player_field_goal_data[player]: # getting the number of attempts\n",
    "        attempts.append(game[1])\n",
    "    \n",
    "    successes = []\n",
    "    \n",
    "    for i in range(0,4): # for 4 games\n",
    "        successes.append((stats.binom.rvs(n=attempts[i],p=prob[0],size=1))[0])\n",
    "    \n",
    "    x = np.linspace(0,10,4)\n",
    "    y = successes\n",
    "    plt.plot(x,y)\n",
    "    \n",
    "plt.show()"
   ]
  },
  {
   "cell_type": "code",
   "execution_count": null,
   "metadata": {
    "collapsed": true
   },
   "outputs": [],
   "source": []
  }
 ],
 "metadata": {
  "anaconda-cloud": {},
  "kernelspec": {
   "display_name": "Python [anaconda]",
   "language": "python",
   "name": "Python [anaconda]"
  },
  "language_info": {
   "codemirror_mode": {
    "name": "ipython",
    "version": 2
   },
   "file_extension": ".py",
   "mimetype": "text/x-python",
   "name": "python",
   "nbconvert_exporter": "python",
   "pygments_lexer": "ipython2",
   "version": "2.7.15"
  }
 },
 "nbformat": 4,
 "nbformat_minor": 2
}
